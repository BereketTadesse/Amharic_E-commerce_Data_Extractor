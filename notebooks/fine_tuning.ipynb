{
 "cells": [
  {
   "cell_type": "markdown",
   "id": "0b5305d5",
   "metadata": {},
   "source": [
    "# Fine-Tuning\n"
   ]
  },
  {
   "cell_type": "markdown",
   "id": "d44769ac",
   "metadata": {},
   "source": [
    "# 1. Data Preparation"
   ]
  },
  {
   "cell_type": "code",
   "execution_count": null,
   "id": "bd328d60",
   "metadata": {},
   "outputs": [],
   "source": [
    "import pandas as pd\n",
    "\n",
    "# Load the Excel file\n",
    "df = pd.read_excel('telegram_data.xlsx')\n",
    "\n",
    "# Extract messages with Amharic text\n",
    "amharic_messages = df[df['Message'].notna()]['Message'].tolist()"
   ]
  },
  {
   "cell_type": "markdown",
   "id": "3eb8ecdf",
   "metadata": {},
   "source": [
    "# 2. Annotation Guidelines"
   ]
  },
  {
   "cell_type": "markdown",
   "id": "972e45b1",
   "metadata": {
    "vscode": {
     "languageId": "raw"
    }
   },
   "source": [
    "### Define our entity types based on what appears in our data:"
   ]
  },
  {
   "cell_type": "markdown",
   "id": "f1db9ae0",
   "metadata": {},
   "source": [
    "* Products \n",
    "* Prices \n",
    "* Locations/Addresses \n",
    "* Phone numbers\n",
    "* Measurements "
   ]
  },
  {
   "cell_type": "markdown",
   "id": "14bfa59a",
   "metadata": {},
   "source": [
    "# 3. Data Annotation\n",
    "* Annotate the  data in to  BIO format  using Doccano tool."
   ]
  },
  {
   "cell_type": "markdown",
   "id": "38387942",
   "metadata": {},
   "source": [
    "# 4. Model Selection\n",
    "### For Amharic NER,Use AfroXLMRoberta (better for African languages)"
   ]
  },
  {
   "cell_type": "code",
   "execution_count": null,
   "id": "bc751699",
   "metadata": {},
   "outputs": [],
   "source": [
    "model_name = \"Davlan/afro-xlmr-base\""
   ]
  },
  {
   "cell_type": "markdown",
   "id": "5e799daa",
   "metadata": {},
   "source": [
    "# 5. Training Code Example"
   ]
  },
  {
   "cell_type": "code",
   "execution_count": null,
   "id": "56f90179",
   "metadata": {},
   "outputs": [],
   "source": [
    "from transformers import pipeline, AutoTokenizer, AutoModelForTokenClassification\n",
    "from transformers import Trainer, TrainingArguments\n",
    "\n",
    "# Load tokenizer and model\n",
    "tokenizer = AutoTokenizer.from_pretrained(\"Davlan/afro-xlmr-base\")\n",
    "model = AutoModelForTokenClassification.from_pretrained(\"Davlan/afro-xlmr-base\", num_labels=num_labels)\n",
    "\n",
    "# Training arguments\n",
    "training_args = TrainingArguments(\n",
    "    output_dir='./results',\n",
    "    num_train_epochs=3,\n",
    "    per_device_train_batch_size=16,\n",
    "    save_steps=10_000,\n",
    "    save_total_limit=2,\n",
    "    learning_rate=2e-5,\n",
    ")\n",
    "\n",
    "# Create trainer\n",
    "trainer = Trainer(\n",
    "    model=model,\n",
    "    args=training_args,\n",
    "    train_dataset=train_dataset,\n",
    "    eval_dataset=eval_dataset,\n",
    ")\n",
    "\n",
    "# Start training\n",
    "trainer.train()"
   ]
  },
  {
   "cell_type": "markdown",
   "id": "77fb2b50",
   "metadata": {},
   "source": [
    "# 6. Preprocessing Recommendation"
   ]
  },
  {
   "cell_type": "code",
   "execution_count": null,
   "id": "4e1f1b57",
   "metadata": {},
   "outputs": [],
   "source": [
    "import re\n",
    "\n",
    "def preprocess_amharic_text(text):\n",
    "    # Normalize Ethiopic numbers if present\n",
    "    text = text.replace('፩', '1').replace('፪', '2') # etc for all Ethiopic numbers\n",
    "    \n",
    "    # Standardize price formats\n",
    "    text = re.sub(r'(\\d+)\\s*ብር', r'\\1 ብር', text)\n",
    "    \n",
    "    # Remove excessive whitespace and line breaks\n",
    "    text = ' '.join(text.split())\n",
    "    \n",
    "    return text"
   ]
  }
 ],
 "metadata": {
  "kernelspec": {
   "display_name": "Python 3",
   "language": "python",
   "name": "python3"
  },
  "language_info": {
   "codemirror_mode": {
    "name": "ipython",
    "version": 3
   },
   "file_extension": ".py",
   "mimetype": "text/x-python",
   "name": "python",
   "nbconvert_exporter": "python",
   "pygments_lexer": "ipython3",
   "version": "3.13.3"
  }
 },
 "nbformat": 4,
 "nbformat_minor": 5
}
